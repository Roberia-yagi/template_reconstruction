{
 "cells": [
  {
   "cell_type": "markdown",
   "id": "eb3df9f1",
   "metadata": {},
   "source": [
    "# 円柱の軸出し精度のpcaとfittingの比較"
   ]
  },
  {
   "cell_type": "markdown",
   "id": "ad0411c9",
   "metadata": {},
   "source": [
    "## test_cylinder_fitting.pyの中身"
   ]
  },
  {
   "cell_type": "code",
   "execution_count": 1,
   "id": "3291b105",
   "metadata": {},
   "outputs": [],
   "source": [
    "# from test_cylinder_fitting import *\n",
    "import random\n",
    "random.seed(0)\n",
    "from geo import *\n",
    "from face_fit import *\n",
    "\n",
    "import numpy\n",
    "import numpy.linalg\n"
   ]
  },
  {
   "cell_type": "code",
   "execution_count": 2,
   "id": "e9d5067e",
   "metadata": {},
   "outputs": [],
   "source": [
    "def distort(pos,sigma) :\n",
    "    return map(lambda x: x+random.normalvariate(0,sigma), pos)\n",
    "\n",
    "def make_cylinder_point_cloud(n,r,l_range,angle_range,sigma=None,transform=None) :\n",
    "    rslt = []\n",
    "    for i in range(n) :\n",
    "        zz=random.uniform(l_range[0],l_range[1])\n",
    "        th=random.uniform(angle_range[0],angle_range[1])\n",
    "        if sigma :\n",
    "            tmp=VECTOR(vec=list(distort([r*cos(th),r*sin(th),zz],sigma)))\n",
    "        else :\n",
    "            tmp=VECTOR(r*cos(th),r*sin(th),zz)\n",
    "        if transform :\n",
    "            tmp=transform*tmp\n",
    "        rslt.append(tmp)\n",
    "    return rslt"
   ]
  },
  {
   "cell_type": "code",
   "execution_count": 3,
   "id": "aaeec207",
   "metadata": {},
   "outputs": [],
   "source": [
    "def calc_pca(point_cloud) :\n",
    "    tmp=numpy.array(point_cloud).T\n",
    "    tmp=numpy.cov(tmp,bias=True)\n",
    "    return numpy.linalg.eig(tmp)"
   ]
  },
  {
   "cell_type": "code",
   "execution_count": 4,
   "id": "fa40ab50",
   "metadata": {},
   "outputs": [],
   "source": [
    "def calc_axis_center_pca(point_cloud) :\n",
    "    tmp=calc_pca(point_cloud)\n",
    "    idx=numpy.argmax(tmp[0])\n",
    "    cc=numpy.average(point_cloud,axis=0)\n",
    "    return VECTOR(tmp[1][0][idx], tmp[1][1][idx], tmp[1][2][idx]),VECTOR(cc[0],cc[1],cc[2])"
   ]
  },
  {
   "cell_type": "code",
   "execution_count": 5,
   "id": "998e33c9",
   "metadata": {},
   "outputs": [],
   "source": [
    "def make_cylinder_face_data(point_cloud,radius,transform=None) :\n",
    "    if not transform :\n",
    "        transform=FRAME()\n",
    "    return [[\"cylinder\",transform,radius],point_cloud]"
   ]
  },
  {
   "cell_type": "code",
   "execution_count": 6,
   "id": "c8866e60",
   "metadata": {},
   "outputs": [],
   "source": [
    "def outlier(p_list, sigma, n=1) :\n",
    "    rslt=[]\n",
    "    for pp in p_list :\n",
    "        for i in range(n) :\n",
    "            rslt.append( VECTOR(pp[0]+random.normalvariate(0,sigma),\n",
    "                                pp[1]+random.normalvariate(0,sigma),\n",
    "                                pp[2]+random.normalvariate(0,sigma)))\n",
    "    return rslt"
   ]
  },
  {
   "cell_type": "code",
   "execution_count": 7,
   "id": "d6669b87",
   "metadata": {},
   "outputs": [],
   "source": [
    "def cmp_with_tv(tv, axis, center) :\n",
    "    tv_axis=tv.mat.col(2)\n",
    "    tmp1=abs(axis*tv_axis)\n",
    "    tmp2=(-tv)*center\n",
    "    return tmp1, tmp2"
   ]
  },
  {
   "cell_type": "markdown",
   "id": "6acb2b63",
   "metadata": {},
   "source": [
    "## 関数の単体テスト"
   ]
  },
  {
   "cell_type": "markdown",
   "id": "c8ecb6fe",
   "metadata": {},
   "source": [
    "### 円柱表面上のpoint_cloudの生成"
   ]
  },
  {
   "cell_type": "code",
   "execution_count": 8,
   "id": "124c2232",
   "metadata": {},
   "outputs": [],
   "source": [
    "a=make_cylinder_point_cloud(100,10,[-100,100],[-pi,pi])"
   ]
  },
  {
   "cell_type": "markdown",
   "id": "fd643f72",
   "metadata": {},
   "source": [
    "### 共分散行列を生成してpcaを行う．"
   ]
  },
  {
   "cell_type": "code",
   "execution_count": 9,
   "id": "f3d6aa43",
   "metadata": {},
   "outputs": [],
   "source": [
    "aa=numpy.array(a).T"
   ]
  },
  {
   "cell_type": "code",
   "execution_count": 10,
   "id": "d5fdcf85",
   "metadata": {},
   "outputs": [],
   "source": [
    "b=numpy.cov(aa,bias=True)"
   ]
  },
  {
   "cell_type": "code",
   "execution_count": 11,
   "id": "45a01d3b",
   "metadata": {},
   "outputs": [
    {
     "data": {
      "text/plain": [
       "(array([3213.27768195,   52.2790474 ,   46.53225288]),\n",
       " array([[-0.00378424,  0.9671312 , -0.25424973],\n",
       "        [ 0.00996903, -0.25420243, -0.96709966],\n",
       "        [ 0.99994315,  0.00619436,  0.0086794 ]]))"
      ]
     },
     "execution_count": 11,
     "metadata": {},
     "output_type": "execute_result"
    }
   ],
   "source": [
    "c=numpy.linalg.eig(b)\n",
    "c"
   ]
  },
  {
   "cell_type": "markdown",
   "id": "76f0698c",
   "metadata": {},
   "source": [
    "第１主成分の軸を取り出す．"
   ]
  },
  {
   "cell_type": "code",
   "execution_count": 12,
   "id": "e2f27cf7",
   "metadata": {},
   "outputs": [
    {
     "data": {
      "text/plain": [
       "v:[-0.003784241077756072, 0.009969031333209265, 0.9999431473507596]"
      ]
     },
     "execution_count": 12,
     "metadata": {},
     "output_type": "execute_result"
    }
   ],
   "source": [
    "tmp=numpy.argmax(c[0])\n",
    "VECTOR(c[1][0][tmp],c[1][1][tmp],c[1][2][tmp])"
   ]
  },
  {
   "cell_type": "markdown",
   "id": "4e7f03df",
   "metadata": {},
   "source": [
    "### pcaを求める部分をまとめた関数のテスト"
   ]
  },
  {
   "cell_type": "code",
   "execution_count": 13,
   "id": "79315c34",
   "metadata": {},
   "outputs": [
    {
     "data": {
      "text/plain": [
       "(array([3213.27768195,   52.2790474 ,   46.53225288]),\n",
       " array([[-0.00378424,  0.9671312 , -0.25424973],\n",
       "        [ 0.00996903, -0.25420243, -0.96709966],\n",
       "        [ 0.99994315,  0.00619436,  0.0086794 ]]))"
      ]
     },
     "execution_count": 13,
     "metadata": {},
     "output_type": "execute_result"
    }
   ],
   "source": [
    "calc_pca(a)"
   ]
  },
  {
   "cell_type": "markdown",
   "id": "c1abbf07",
   "metadata": {},
   "source": [
    "重心を求める"
   ]
  },
  {
   "cell_type": "code",
   "execution_count": 14,
   "id": "c45dd8dd",
   "metadata": {},
   "outputs": [
    {
     "data": {
      "text/plain": [
       "array([ 0.72877932, -0.54565138,  7.18142443])"
      ]
     },
     "execution_count": 14,
     "metadata": {},
     "output_type": "execute_result"
    }
   ],
   "source": [
    "numpy.average(a,axis=0)"
   ]
  },
  {
   "cell_type": "markdown",
   "id": "40c5d405",
   "metadata": {},
   "source": [
    "### pca を使って軸と重心（軸の通過位置）を求める"
   ]
  },
  {
   "cell_type": "code",
   "execution_count": 15,
   "id": "fad8e0a5",
   "metadata": {},
   "outputs": [
    {
     "data": {
      "text/plain": [
       "(v:[-0.003784241077756072, 0.009969031333209265, 0.9999431473507596],\n",
       " v:[0.7287793178926456, -0.5456513832318244, 7.181424433499858])"
      ]
     },
     "execution_count": 15,
     "metadata": {},
     "output_type": "execute_result"
    }
   ],
   "source": [
    "tmp=calc_axis_center_pca(a)\n",
    "tmp"
   ]
  },
  {
   "cell_type": "code",
   "execution_count": 16,
   "id": "a7d35568",
   "metadata": {},
   "outputs": [
    {
     "data": {
      "text/plain": [
       "(0.010663117098535707,\n",
       " v:[0.7287793178926456, -0.5456513832318244, 7.181424433499858])"
      ]
     },
     "execution_count": 16,
     "metadata": {},
     "output_type": "execute_result"
    }
   ],
   "source": [
    "cmp_with_tv(FRAME(),tmp[0],tmp[1])"
   ]
  },
  {
   "cell_type": "markdown",
   "id": "c1e9f35e",
   "metadata": {},
   "source": [
    "### face_fit.py用のデータ"
   ]
  },
  {
   "cell_type": "code",
   "execution_count": 17,
   "id": "63c1c22f",
   "metadata": {},
   "outputs": [
    {
     "data": {
      "text/plain": [
       "[['cylinder',\n",
       "  f:(m:[[1.0, 0.0, 0.0], [0.0, 1.0, 0.0], [0.0, 0.0, 1.0]],v:[0.0, 0.0, 0.0]),\n",
       "  10],\n",
       " [v:[-0.49958183201467393, 9.987513103526865, 68.88437030500961],\n",
       "  v:[0.5599628954437964, -9.98430976861827, -15.885683833830996],\n",
       "  v:[8.268478984060739, -5.624255976584449, 2.254944273721705],\n",
       "  v:[3.2874436688709583, -9.44418943710895, 56.75971780695451],\n",
       "  v:[8.65872348439298, 5.002650059800457, -4.680609169528836],\n",
       "  v:[9.995664276858658, 0.2944412748438794, 81.62257703906704],\n",
       "  v:[-0.36460807002559614, 9.99335083719531, -43.63243112005924],\n",
       "  v:[0.03181431242067512, -9.999949392348203, 23.67379933506632],\n",
       "  v:[-9.941561866942632, 1.0795126890185804, 81.94925119364802],\n",
       "  v:[-8.169410403740258, 5.7672119481826245, 62.04344719931791],\n",
       "  v:[1.2638198419622642, 9.919816500674923, -37.970486136133474],\n",
       "  v:[4.029988352674712, 9.15200491025361, 79.7676575935987],\n",
       "  v:[-8.064194745925654, -5.913439193885828, -5.571456909457325],\n",
       "  v:[7.6694891999539045, 6.41708153382754, -13.165632909243257],\n",
       "  v:[-9.780687592103138, 2.0828226582404277, 82.60221064757965],\n",
       "  v:[-6.627713270231825, 7.488218533642895, -4.5980446894566],\n",
       "  v:[-3.389024208051284, 9.408215288631652, -47.90153792160812],\n",
       "  v:[-9.961105570720434, -0.881121903576536, 9.739860767117861],\n",
       "  v:[8.046500805041498, -5.937493140582694, 43.94093728079082],\n",
       "  v:[4.918894817163553, 8.70657646711275, 64.96899542964661],\n",
       "  v:[9.991859904962594, -0.4034050564890171, -99.77143613711435],\n",
       "  v:[-0.3824975588565354, -9.992682103292829, 73.52055509855617],\n",
       "  v:[-6.867024607087639, 7.269386015727385, -34.95912745052199],\n",
       "  v:[9.113755033860212, 4.115758640006437, -61.78658169952189],\n",
       "  v:[-9.79274064219856, 2.0253964339438695, -52.27681427695596],\n",
       "  v:[9.470369270194654, -3.2112467806371994, 60.63589385597402],\n",
       "  v:[4.260897047676061, -9.046809180540142, -83.91083628949292],\n",
       "  v:[-9.122644141022635, 4.096018051262153, 1.5881285041147777],\n",
       "  v:[9.485658954910551, 3.165797560035268, -78.18843081377926],\n",
       "  v:[9.55902115826474, 2.9368545241204953, 41.312281973377935],\n",
       "  v:[9.681384693365167, 2.5041546316221424, 62.8933726582672],\n",
       "  v:[7.9709067930900925, 6.0385962686596475, 92.76770919476019],\n",
       "  v:[9.408574107569445, -3.388027931167896, 17.52341283508727],\n",
       "  v:[7.4970017214802995, -6.617776453471469, 19.257372316621257],\n",
       "  v:[2.5069463435930404, -9.680662169001947, 15.130202832977702],\n",
       "  v:[-3.871514470133251, -9.220161371014546, -62.121734289128774],\n",
       "  v:[5.5342963564887695, 8.328959349075678, 22.554635973721332],\n",
       "  v:[-8.44918734236645, -5.348946929405317, -4.693801598123855],\n",
       "  v:[-7.149284232639465, 6.991976470278825, 51.52078439328736],\n",
       "  v:[-5.4881391138020765, 8.359445500005114, 84.67620318925611],\n",
       "  v:[-8.85472133690529, 4.646924794501645, 79.6346242715758],\n",
       "  v:[7.756783876879009, -6.311283854129036, 8.119984989610884],\n",
       "  v:[1.6036846130380187, -9.870572205394431, 41.05667997088125],\n",
       "  v:[-5.851692474482003, 8.109111861609179, 62.32574170157571],\n",
       "  v:[8.449966217559783, 5.347716421249205, 79.00779348533504],\n",
       "  v:[8.772282569771097, 4.800735205787776, 89.95297464642411],\n",
       "  v:[5.345244081810845, 8.451530376557026, -9.887378673768964],\n",
       "  v:[-8.668866430757946, 4.9850531397045295, 99.25156787071455],\n",
       "  v:[-8.69026632985408, -4.947653091740012, 58.66501682604485],\n",
       "  v:[9.963749220149609, -0.8507064581676032, 22.556621008142443],\n",
       "  v:[-5.624864485980316, 8.268065040525347, 26.029468082294557],\n",
       "  v:[1.160446152749524, 9.932440018775287, -51.39287558762875],\n",
       "  v:[-1.8453814987909967, -9.82825351341325, -76.5731413582964],\n",
       "  v:[4.9565594987724015, -8.685189573931538, 58.91659434211519],\n",
       "  v:[-8.067674342626917, -5.908691115748001, 63.18261930673191],\n",
       "  v:[3.2290287360704544, 9.46432107557807, -70.72830221753924],\n",
       "  v:[8.942185186527094, 4.4763069700206435, -90.95318642687752],\n",
       "  v:[9.77003658061541, 2.132225413373722, 82.00320293980795],\n",
       "  v:[-9.85964450117521, -1.6695539255877443, 36.1178265124513],\n",
       "  v:[7.849728750809486, 6.19530132751547, 26.999981982291658],\n",
       "  v:[7.753346985275101, -6.315505563763323, 15.190589606308151],\n",
       "  v:[-9.925163314225204, 1.2211196444076113, -25.972011932962502],\n",
       "  v:[-9.907735381859855, -1.3552784227022696, -92.72159247770284],\n",
       "  v:[-3.9730968221586522, -9.17684595281804, 92.20625604792224],\n",
       "  v:[-2.451797466313777, -9.694776386496871, -75.22096711511367],\n",
       "  v:[-9.225980033283513, 3.8576278236053243, 60.14931807083619],\n",
       "  v:[8.92765006631114, -4.50522633099545, -95.44348486626832],\n",
       "  v:[0.6228815756050929, -9.980582074346753, -79.69995612516605],\n",
       "  v:[6.033018194702976, 7.975129557717721, -55.83414573673653],\n",
       "  v:[-4.239711108738828, -9.056757130145236, -29.94120652069354],\n",
       "  v:[-9.695465889634104, -2.4490694524536387, 0.7273010419774408],\n",
       "  v:[-9.97269105917791, 0.7385343852475629, -79.81575176220667],\n",
       "  v:[6.304036376578347, -7.762675142164391, -60.128841906587404],\n",
       "  v:[-5.269196529278018, 8.49915101265088, 46.319661245072126],\n",
       "  v:[-4.849186360859946, -8.745592697905035, 83.69641239906628],\n",
       "  v:[-9.77993492744788, 2.0863539524455237, 34.52811271461053],\n",
       "  v:[4.4724960082777105, 8.944091874301154, -88.38981123470026],\n",
       "  v:[5.480379907703966, -8.36453442023133, 69.08491874032327],\n",
       "  v:[8.207016992921915, 5.713569119026297, -49.86253214297767],\n",
       "  v:[-4.550007983717286, -8.904910294220205, -11.53719326018421],\n",
       "  v:[8.440092720077113, -5.363285828342671, -5.67491698074241],\n",
       "  v:[9.985403991692207, 0.5400991785749536, 13.822547904856037],\n",
       "  v:[6.2353315495808985, -7.817969075584853, -37.710799799958636],\n",
       "  v:[0.05860072366871272, -9.999828296285166, 67.5322348737958],\n",
       "  v:[-9.969486470309516, -0.7806020230024373, 12.120043770704797],\n",
       "  v:[5.139898586897445, -8.577962608708997, 48.31487548213272],\n",
       "  v:[1.9282919656415676, -9.81232337905973, -90.86070128631667],\n",
       "  v:[-9.569482508422647, 2.9025858335272394, -51.97391843472921],\n",
       "  v:[2.357536047681764, -9.718128615318951, -29.55488769689852],\n",
       "  v:[-9.448695058203839, 3.274471208771633, -28.159760549250734],\n",
       "  v:[7.243203172845131, 6.894636161313098, 26.74957044985051],\n",
       "  v:[7.625125779533501, -6.4697339084612775, 43.12387006029127],\n",
       "  v:[5.835436149746499, 8.120817997112837, -17.116402344550536],\n",
       "  v:[-3.545940247351135, -9.350203621430678, -99.69515562865597],\n",
       "  v:[-0.6645247773670303, -9.977895911476793, -33.11966186749969],\n",
       "  v:[7.231275642179566, -6.9071450387855995, 27.479880225860057],\n",
       "  v:[9.097113195789133, 4.152412732737346, 75.08467834260344],\n",
       "  v:[8.173073154982921, -5.762020062729521, -17.118720663271134],\n",
       "  v:[8.708842585149155, -4.914881567961998, 40.36592478673509],\n",
       "  v:[-9.57114008584538, -2.8971153682799167, 32.43917779476348]]]"
      ]
     },
     "execution_count": 17,
     "metadata": {},
     "output_type": "execute_result"
    }
   ],
   "source": [
    "f=make_cylinder_face_data(a,10)\n",
    "f"
   ]
  },
  {
   "cell_type": "markdown",
   "id": "a0f1b19f",
   "metadata": {},
   "source": [
    "### 外れ値生成用の関数のテスト"
   ]
  },
  {
   "cell_type": "code",
   "execution_count": 18,
   "id": "deb61806",
   "metadata": {},
   "outputs": [
    {
     "data": {
      "text/plain": [
       "[v:[0.8734432458871026, -1.2430457051469561, -0.04980953110323319],\n",
       " v:[0.9864907466924226, -0.2974394211491618, 0.2491099349434455],\n",
       " v:[0.4760689588007443, -0.40097026649446166, 1.1738576792081525],\n",
       " v:[3.0267252195784047, -0.19291317951565695, -0.7065251276395103],\n",
       " v:[-0.3125276022543755, 0.39616207451501667, 0.8840790108339466],\n",
       " v:[1.7030658173795512, 1.4309783107514624, 0.926593721570572],\n",
       " v:[1.9198097871157425, 0.5264434923857274, -1.213931979243707],\n",
       " v:[-1.3584790755077172, 1.5664453481982865, 0.21567282882685382],\n",
       " v:[-0.5965976245359932, 1.1177143806219447, -0.04949489717599043],\n",
       " v:[0.042559178734451246, 0.752611851569589, -0.16244448470877107],\n",
       " v:[1.332831905209186, 0.485096771873879, 0.5970921641251684],\n",
       " v:[-1.2812138556969408, 1.3482055149702687, 0.4565809236978218]]"
      ]
     },
     "execution_count": 18,
     "metadata": {},
     "output_type": "execute_result"
    }
   ],
   "source": [
    "outlier([VECTOR(1,0,0),VECTOR(0,1,0)],1,6)"
   ]
  },
  {
   "cell_type": "markdown",
   "id": "b8e07c54",
   "metadata": {},
   "source": [
    "### ガウス・ニュートン法の1回目"
   ]
  },
  {
   "cell_type": "code",
   "execution_count": 19,
   "id": "ab631641",
   "metadata": {},
   "outputs": [
    {
     "data": {
      "text/plain": [
       "(f:(m:[[0.7513591464411092, -0.6559914677357819, 0.07165631386795007], [0.6510394389103459, 0.7546229311866306, 0.08180391623021199], [-0.10773616868345343, -0.014813034299298256, 0.9940691585459527]],v:[3.61121123518089, 3.2409578381546043, 4.910275710888731]),\n",
       " [-2.1729074363399317,\n",
       "  -0.5563158110216354,\n",
       "  -1.462560971049779e-15,\n",
       "  -0.7286550688841125,\n",
       "  -0.017384082812397485,\n",
       "  3.903351958143094e-16])"
      ]
     },
     "execution_count": 19,
     "metadata": {},
     "output_type": "execute_result"
    }
   ],
   "source": [
    "g=fit_face1(FRAME(xyzabc=[5,5,5,pi/6,pi/6,pi/6]),[f])\n",
    "g"
   ]
  },
  {
   "cell_type": "markdown",
   "id": "d8b8d53e",
   "metadata": {},
   "source": [
    "### ２回目以降は以下を繰り返せば良い．"
   ]
  },
  {
   "cell_type": "code",
   "execution_count": 20,
   "id": "7b98cfaf",
   "metadata": {},
   "outputs": [
    {
     "data": {
      "text/plain": [
       "(f:(m:[[0.7541735528239153, -0.6563321671183001, 0.02122118344363754], [0.6551175590212064, 0.7542162063872316, 0.0444848051018374], [-0.04520216900823199, -0.01964689361319511, 0.9987846431980736]],v:[0.7291406506927856, 2.225258714871235, 5.201610290478198]),\n",
       " [-2.85811755307812,\n",
       "  1.119828314100657,\n",
       "  8.334222147277742e-16,\n",
       "  -0.004862894570060115,\n",
       "  -0.06274029109472604,\n",
       "  -5.686591507849017e-16])"
      ]
     },
     "execution_count": 20,
     "metadata": {},
     "output_type": "execute_result"
    }
   ],
   "source": [
    "g=fit_face1(g[0],[f])\n",
    "g"
   ]
  },
  {
   "cell_type": "markdown",
   "id": "ba85ed71",
   "metadata": {},
   "source": [
    "### 上記結果から軸と原点をだす．"
   ]
  },
  {
   "cell_type": "code",
   "execution_count": 21,
   "id": "9f54c97a",
   "metadata": {},
   "outputs": [
    {
     "name": "stdout",
     "output_type": "stream",
     "text": [
      "v:[0.02122118344363754, 0.0444848051018374, 0.9987846431980736]\n",
      "v:[0.7291406506927856, 2.225258714871235, 5.201610290478198]\n"
     ]
    }
   ],
   "source": [
    "print(g[0].mat.col(2))\n",
    "print(g[0].vec)"
   ]
  },
  {
   "cell_type": "code",
   "execution_count": 22,
   "id": "84baf95b",
   "metadata": {},
   "outputs": [
    {
     "data": {
      "text/plain": [
       "(0.04928728549734683,\n",
       " v:[0.7291406506927856, 2.225258714871235, 5.201610290478198])"
      ]
     },
     "execution_count": 22,
     "metadata": {},
     "output_type": "execute_result"
    }
   ],
   "source": [
    "cmp_with_tv(FRAME(),g[0].mat.col(2),g[0].vec)"
   ]
  },
  {
   "cell_type": "markdown",
   "id": "d924eaf9",
   "metadata": {},
   "source": [
    "## 比較\n",
    "### 比較のための準備"
   ]
  },
  {
   "cell_type": "code",
   "execution_count": 23,
   "id": "70131335",
   "metadata": {},
   "outputs": [],
   "source": [
    "x=numpy.array([100,200,500,1000,2000,5000,10000,20000,50000,100000])\n",
    "n_x=len(x)\n",
    "pca_acc=numpy.zeros(n_x,dtype=numpy.float64)\n",
    "fit_acc=numpy.zeros(n_x,dtype=numpy.float64)\n",
    "pca_center=numpy.zeros(n_x,dtype=numpy.float64)\n",
    "fit_center=numpy.zeros(n_x,dtype=numpy.float64)"
   ]
  },
  {
   "cell_type": "code",
   "execution_count": 24,
   "id": "7e45fd96",
   "metadata": {},
   "outputs": [],
   "source": [
    "import time\n",
    "pca_tm=numpy.zeros(n_x,dtype=numpy.float64)\n",
    "fit_tm=numpy.zeros(n_x,dtype=numpy.float64)"
   ]
  },
  {
   "cell_type": "code",
   "execution_count": 25,
   "id": "173126d7",
   "metadata": {},
   "outputs": [],
   "source": [
    "import matplotlib.pyplot as plt\n",
    "\n",
    "def plot_data(pca,fit,y=\"y\", log=False) :\n",
    "    plt.plot(x,pca)\n",
    "    plt.plot(x,fit)\n",
    "    plt.xlabel(\"n\")\n",
    "    plt.ylabel(y)\n",
    "    plt.xscale('log')\n",
    "\n",
    "    if log :\n",
    "        plt.yscale('log')\n",
    "\n",
    "    plt.legend([\"pca\",\"fit\"])\n",
    "    plt.show()"
   ]
  },
  {
   "cell_type": "markdown",
   "id": "34bdc660",
   "metadata": {},
   "source": [
    "### 点群生成パラメタ"
   ]
  },
  {
   "cell_type": "code",
   "execution_count": 26,
   "id": "61f03d3c",
   "metadata": {},
   "outputs": [],
   "source": [
    "tv=FRAME(xyzabc=[50,50,50,pi/3,pi/3,pi/3])\n",
    "tv_z=tv.mat.col(2)\n",
    "t_offset=FRAME(xyzabc=[5,5,5,pi/6,pi/6,pi/6])  # for gauss-newton"
   ]
  },
  {
   "cell_type": "code",
   "execution_count": 27,
   "id": "d7f720a5",
   "metadata": {},
   "outputs": [],
   "source": [
    "def do_pca_fit() :\n",
    "    s_tm=time.time()    \n",
    "    tmp1=calc_axis_center_pca(cpc)\n",
    "    tmp2=cmp_with_tv(tv,tmp1[0],tmp1[1])\n",
    "    pca_acc[i]=tmp2[0]\n",
    "    ce=tmp2[1]\n",
    "    ce[2]=0\n",
    "    pca_center[i]=abs(ce)\n",
    "    e_tm=time.time()\n",
    "    pca_tm[i]=e_tm-s_tm\n",
    "    \n",
    "    print(\"time=\", pca_tm[i])\n",
    "    print(pca_acc[i])\n",
    "    \n",
    "    fit_data=make_cylinder_face_data(cpc,r)\n",
    "    fit_init=tv*t_offset\n",
    "    \n",
    "    s_tm=time.time()\n",
    "    fit=fit_face1(fit_init,[fit_data])\n",
    "    tmp3=cmp_with_tv(tv,fit[0].mat.col(2),fit[0].vec)\n",
    "    print(\"fit 0\",tmp3[0])\n",
    "    for j in range(5) :\n",
    "        fit=fit_face1(fit[0],[fit_data])\n",
    "        tmp3=cmp_with_tv(tv,fit[0].mat.col(2),fit[0].vec)\n",
    "        print(\"fit\",j+1,tmp3[0])\n",
    "    tmp3=cmp_with_tv(tv,fit[0].mat.col(2),fit[0].vec)\n",
    "    fit_acc[i]=tmp3[0]\n",
    "    ce=tmp3[1]\n",
    "    ce[2]=0\n",
    "    fit_center[i]=abs(ce)                   \n",
    "    e_tm=time.time()\n",
    "    fit_tm[i]=e_tm-s_tm   \n",
    "    print(\"time=\",fit_tm[i])"
   ]
  },
  {
   "cell_type": "markdown",
   "id": "5cf0460a",
   "metadata": {},
   "source": [
    "### 直径の10倍の長さの円柱，誤差なし"
   ]
  },
  {
   "cell_type": "code",
   "execution_count": 28,
   "id": "df057017",
   "metadata": {},
   "outputs": [
    {
     "name": "stdout",
     "output_type": "stream",
     "text": [
      "100\n",
      "time= 0.001741170883178711\n",
      "0.011824909624401777\n",
      "fit 0 0.02735110602550341\n",
      "fit 1 0.001706928967397715\n",
      "fit 2 7.581762981890551e-07\n",
      "fit 3 2.4720398937982376e-12\n",
      "fit 4 1.1443916996305594e-16\n",
      "fit 5 1.3597399555105182e-16\n",
      "time= 0.07078862190246582\n",
      "200\n",
      "time= 0.0030083656311035156\n",
      "0.006178819999900568\n",
      "fit 0 0.050753110602416183\n",
      "fit 1 0.0020508299679575866\n",
      "fit 2 2.235375415091637e-06\n",
      "fit 3 2.7544197387704025e-12\n",
      "fit 4 2.391654643720554e-16\n",
      "fit 5 2.391654643720554e-16\n",
      "time= 0.09361815452575684\n",
      "500\n",
      "time= 0.002730131149291992\n",
      "0.0035656394940263526\n",
      "fit 0 0.044175614207152915\n",
      "fit 1 0.003538637236783773\n",
      "fit 2 1.2303851052927181e-05\n",
      "fit 3 3.333078155120719e-11\n",
      "fit 4 1.1443916996305594e-16\n",
      "fit 5 1.1443916996305594e-16\n",
      "time= 0.1940310001373291\n",
      "1000\n",
      "time= 0.005160093307495117\n",
      "0.003945646306628271\n",
      "fit 0 0.04180061236680305\n",
      "fit 1 0.0015342973455288115\n",
      "fit 2 1.1665402302762255e-06\n",
      "fit 3 2.577738582666528e-13\n",
      "fit 4 1.1443916996305594e-16\n",
      "fit 5 1.1443916996305594e-16\n",
      "time= 0.36090898513793945\n",
      "2000\n",
      "time= 0.010445117950439453\n",
      "0.002699066961391213\n",
      "fit 0 0.031222616502600338\n",
      "fit 1 0.0006116969460386922\n",
      "fit 2 2.0655396801447058e-07\n",
      "fit 3 1.781424219857094e-14\n",
      "fit 4 2.0062885096040707e-16\n",
      "fit 5 1.8619006149354548e-16\n",
      "time= 0.9533472061157227\n",
      "5000\n",
      "time= 0.03861188888549805\n",
      "0.004224345984030205\n",
      "fit 0 0.020880916591783153\n",
      "fit 1 0.0007158709266112732\n",
      "fit 2 1.1752579617879717e-07\n",
      "fit 3 2.2206195148221764e-15\n",
      "fit 4 1.760893866893587e-16\n",
      "fit 5 1.760893866893587e-16\n",
      "time= 2.307370662689209\n",
      "10000\n",
      "time= 0.057706356048583984\n",
      "0.0026120925762041745\n",
      "fit 0 0.03618173001523795\n",
      "fit 1 0.0010154210124108968\n",
      "fit 2 1.2933087838655152e-07\n",
      "fit 3 2.1257944447923956e-15\n",
      "fit 4 1.3092278833360675e-16\n",
      "fit 5 1.3092278833360675e-16\n",
      "time= 3.7816176414489746\n",
      "20000\n",
      "time= 0.16256046295166016\n",
      "0.0002644940572096145\n",
      "fit 0 0.02786655507451266\n",
      "fit 1 0.000663392624482563\n",
      "fit 2 5.467522116526223e-08\n",
      "fit 3 3.1031676915590914e-16\n",
      "fit 4 1.594436429147036e-16\n",
      "fit 5 1.5515838457795457e-16\n",
      "time= 7.771425008773804\n",
      "50000\n",
      "time= 0.3402845859527588\n",
      "0.0008003148231100432\n",
      "fit 0 0.02525034829980899\n",
      "fit 1 0.0004875302287846279\n",
      "fit 2 2.1386622016721155e-08\n",
      "fit 3 1.0385185452638061e-16\n",
      "fit 4 1.0385185452638061e-16\n",
      "fit 5 1.0385185452638061e-16\n",
      "time= 21.42798900604248\n",
      "100000\n",
      "time= 0.8876256942749023\n",
      "0.00014711772479501125\n",
      "fit 0 0.027182187233109542\n",
      "fit 1 0.0007035430738131914\n",
      "fit 2 2.496166956138084e-08\n",
      "fit 3 2.3055512673781017e-16\n",
      "fit 4 2.5626980138831173e-16\n",
      "fit 5 2.5626980138831173e-16\n",
      "time= 36.99507188796997\n",
      "finish\n"
     ]
    }
   ],
   "source": [
    "r=10\n",
    "l_range=[-100,100]\n",
    "angle_range=[-pi,pi]\n",
    "\n",
    "for i in range(n_x) :\n",
    "    cpc=make_cylinder_point_cloud(x[i],r,l_range,angle_range,transform=tv)\n",
    "    print(len(cpc))\n",
    "\n",
    "    do_pca_fit()\n",
    "    '''\n",
    "    s_tm=time.time()    \n",
    "    tmp1=calc_axis_center_pca(cpc)\n",
    "    tmp2=cmp_with_tv(tv,tmp1[0],tmp1[1])\n",
    "    pca_acc[i]=tmp2[0]\n",
    "    ce=tmp2[1]\n",
    "    ce[2]=0\n",
    "    pca_center[i]=abs(ce)\n",
    "    e_tm=time.time()\n",
    "    pca_tm[i]=e_tm-s_tm\n",
    "    \n",
    "    print(\"time=\", pca_tm[i])\n",
    "    print(pca_acc[i])\n",
    "    \n",
    "    fit_data=make_cylinder_face_data(cpc,r)\n",
    "    fit_init=tv*t_offset\n",
    "    \n",
    "    s_tm=time.time()\n",
    "    fit=fit_face1(fit_init,[fit_data])\n",
    "    tmp3=cmp_with_tv(tv,fit[0].mat.col(2),fit[0].vec)\n",
    "    print(\"fit 0\",tmp3[0])\n",
    "    for j in range(5) :\n",
    "        fit=fit_face1(fit[0],[fit_data])\n",
    "        tmp3=cmp_with_tv(tv,fit[0].mat.col(2),fit[0].vec)\n",
    "        print(\"fit\",j+1,tmp3[0])\n",
    "    tmp3=cmp_with_tv(tv,fit[0].mat.col(2),fit[0].vec)\n",
    "    fit_acc[i]=tmp3[0]\n",
    "    ce=tmp3[1]\n",
    "    ce[2]=0\n",
    "    fit_center[i]=abs(ce)                   \n",
    "    e_tm=time.time()\n",
    "    fit_tm[i]=e_tm-s_tm   \n",
    "    print(\"time=\",fit_tm[i])\n",
    "    '''\n",
    "print(\"finish\")"
   ]
  },
  {
   "cell_type": "code",
   "execution_count": 29,
   "id": "67971957",
   "metadata": {},
   "outputs": [
    {
     "data": {
      "image/png": "[encoded data removed]",
      "text/plain": [
       "<Figure size 432x288 with 1 Axes>"
      ]
     },
     "metadata": {
      "needs_background": "light"
     },
     "output_type": "display_data"
    }
   ],
   "source": [
    "plot_data(pca_acc,fit_acc,y=\"sin th\")"
   ]
  },
  {
   "cell_type": "code",
   "execution_count": 30,
   "id": "7d3ec237",
   "metadata": {},
   "outputs": [
    {
     "data": {
      "image/png": "[encoded data removed]",
      "text/plain": [
       "<Figure size 432x288 with 1 Axes>"
      ]
     },
     "metadata": {
      "needs_background": "light"
     },
     "output_type": "display_data"
    }
   ],
   "source": [
    "plot_data(pca_center,fit_center,y=\"center\")"
   ]
  },
  {
   "cell_type": "code",
   "execution_count": 31,
   "id": "e527ca72",
   "metadata": {},
   "outputs": [
    {
     "data": {
      "image/png": "[encoded data removed]",
      "text/plain": [
       "<Figure size 432x288 with 1 Axes>"
      ]
     },
     "metadata": {
      "needs_background": "light"
     },
     "output_type": "display_data"
    }
   ],
   "source": [
    "plot_data(pca_tm,fit_tm,y=\"time\",log=True)"
   ]
  },
  {
   "cell_type": "markdown",
   "id": "efdbdf53",
   "metadata": {},
   "source": [
    "### 直径の10倍の長さの円柱，分散0.1の誤差を付加"
   ]
  },
  {
   "cell_type": "code",
   "execution_count": 32,
   "id": "3aac3e7e",
   "metadata": {},
   "outputs": [
    {
     "name": "stdout",
     "output_type": "stream",
     "text": [
      "100\n",
      "time= 0.0011696815490722656\n",
      "0.009679178834631222\n",
      "fit 0 0.022044690184994106\n",
      "fit 1 0.0009261670743029337\n",
      "fit 2 0.0002996688355614716\n",
      "fit 3 0.0002968163158404396\n",
      "fit 4 0.0002968335276194433\n",
      "fit 5 0.0002968334034646771\n",
      "time= 0.05369877815246582\n",
      "200\n",
      "time= 0.001529693603515625\n",
      "0.011641265359057419\n",
      "fit 0 0.061846087598874305\n",
      "fit 1 0.010520999966495144\n",
      "fit 2 0.0003483314035029418\n",
      "fit 3 0.00027089239892401677\n",
      "fit 4 0.000270944749524654\n",
      "fit 5 0.0002709446733407652\n",
      "time= 0.08533453941345215\n",
      "500\n",
      "time= 0.003122091293334961\n",
      "0.007402478847186788\n",
      "fit 0 0.03148052320445422\n",
      "fit 1 0.0005025079727529923\n",
      "fit 2 5.2225770301705453e-05\n",
      "fit 3 5.162698652716984e-05\n",
      "fit 4 5.1627567260639644e-05\n",
      "fit 5 5.1627566447253556e-05\n",
      "time= 0.22875499725341797\n",
      "1000\n",
      "time= 0.004877567291259766\n",
      "0.009607919707797358\n",
      "fit 0 0.021444792613258403\n",
      "fit 1 0.00085106893741678\n",
      "fit 2 7.859221870511619e-05\n",
      "fit 3 7.962339312177227e-05\n",
      "fit 4 7.962337473303721e-05\n",
      "fit 5 7.962337567978462e-05\n",
      "time= 0.37218236923217773\n",
      "2000\n",
      "time= 0.013144254684448242\n",
      "0.0026726000464605292\n",
      "fit 0 0.031192655455152204\n",
      "fit 1 0.0007432751751005842\n",
      "fit 2 4.880434155609996e-05\n",
      "fit 3 4.8188686525580213e-05\n",
      "fit 4 4.818845275100015e-05\n",
      "fit 5 4.8188452503680725e-05\n",
      "time= 0.9416887760162354\n",
      "5000\n",
      "time= 0.024003267288208008\n",
      "0.0025885892897210792\n",
      "fit 0 0.029592765369617826\n",
      "fit 1 0.00039996421243370213\n",
      "fit 2 3.1791623239027424e-05\n",
      "fit 3 3.1643603559175405e-05\n",
      "fit 4 3.164352242115011e-05\n",
      "fit 5 3.1643522367630334e-05\n",
      "time= 2.070983409881592\n",
      "10000\n",
      "time= 0.11277484893798828\n",
      "0.0028151038687437967\n",
      "fit 0 0.03418614158785972\n",
      "fit 1 0.0011497406909878004\n",
      "fit 2 3.2614901685320325e-05\n",
      "fit 3 3.2361531928165615e-05\n",
      "fit 4 3.2361583183481e-05\n",
      "fit 5 3.236158317093375e-05\n",
      "time= 3.765211582183838\n",
      "20000\n",
      "time= 0.09184885025024414\n",
      "0.0010192688853073646\n",
      "fit 0 0.030253807710810866\n",
      "fit 1 0.0009795203956619748\n",
      "fit 2 1.5834450708736596e-05\n",
      "fit 3 1.5573764660227737e-05\n",
      "fit 4 1.5573706730313948e-05\n",
      "fit 5 1.5573706718045353e-05\n",
      "time= 7.08450722694397\n",
      "50000\n",
      "time= 0.271284818649292\n",
      "0.0007107099492451402\n",
      "fit 0 0.02397861265491761\n",
      "fit 1 0.0004448342544771041\n",
      "fit 2 3.111653712124608e-05\n",
      "fit 3 3.10486236194055e-05\n",
      "fit 4 3.10486165742151e-05\n",
      "fit 5 3.104861657326069e-05\n",
      "time= 17.0294930934906\n",
      "100000\n",
      "time= 0.7132124900817871\n",
      "0.0007453643453318061\n",
      "fit 0 0.02648867810717761\n",
      "fit 1 0.00048288930497215145\n",
      "fit 2 1.5504385198208365e-05\n",
      "fit 3 1.5545503634635835e-05\n",
      "fit 4 1.554550889607195e-05\n",
      "fit 5 1.5545508896666897e-05\n",
      "time= 33.41918158531189\n",
      "finish\n"
     ]
    }
   ],
   "source": [
    "r=10\n",
    "l_range=[-100,100]\n",
    "angle_range=[-pi,pi]\n",
    "\n",
    "for i in range(n_x) :\n",
    "    cpc=make_cylinder_point_cloud(x[i],r,l_range,angle_range,sigma=0.1,transform=tv)\n",
    "    print(len(cpc))\n",
    "    \n",
    "    do_pca_fit()\n",
    "\n",
    "print(\"finish\")"
   ]
  },
  {
   "cell_type": "code",
   "execution_count": 33,
   "id": "90188969",
   "metadata": {},
   "outputs": [
    {
     "data": {
      "image/png": "[encoded data removed]",
      "text/plain": [
       "<Figure size 432x288 with 1 Axes>"
      ]
     },
     "metadata": {
      "needs_background": "light"
     },
     "output_type": "display_data"
    },
    {
     "data": {
      "image/png": "[encoded data removed]",
      "text/plain": [
       "<Figure size 432x288 with 1 Axes>"
      ]
     },
     "metadata": {
      "needs_background": "light"
     },
     "output_type": "display_data"
    },
    {
     "data": {
      "image/png": "[encoded data removed]",
      "text/plain": [
       "<Figure size 432x288 with 1 Axes>"
      ]
     },
     "metadata": {
      "needs_background": "light"
     },
     "output_type": "display_data"
    }
   ],
   "source": [
    "plot_data(pca_acc,fit_acc,y=\"sin th\")\n",
    "plot_data(pca_center,fit_center,y=\"center\")\n",
    "plot_data(pca_tm,fit_tm,y=\"time\",log=True)"
   ]
  },
  {
   "cell_type": "markdown",
   "id": "74b31683",
   "metadata": {},
   "source": [
    "### 直径の3倍の長さの円柱．分散0.1の誤差を付加"
   ]
  },
  {
   "cell_type": "code",
   "execution_count": 34,
   "id": "51c7e8f6",
   "metadata": {},
   "outputs": [
    {
     "name": "stdout",
     "output_type": "stream",
     "text": [
      "100\n",
      "time= 0.0011515617370605469\n",
      "0.13589006488002017\n",
      "fit 0 0.4032018483129849\n",
      "fit 1 0.17798225928120961\n",
      "fit 2 0.009634248600482991\n",
      "fit 3 0.0017152023328407676\n",
      "fit 4 0.0017322867171929732\n",
      "fit 5 0.0017322998773046936\n",
      "time= 0.05208539962768555\n",
      "200\n",
      "time= 0.0016410350799560547\n",
      "0.017945316373912903\n",
      "fit 0 0.405927212979092\n",
      "fit 1 0.1397584690538864\n",
      "fit 2 0.0012402475281827119\n",
      "fit 3 0.00043176184967588723\n",
      "fit 4 0.00043115158407868256\n",
      "fit 5 0.0004311521718835907\n",
      "time= 0.09092283248901367\n",
      "500\n",
      "time= 0.00439143180847168\n",
      "0.04369023894135549\n",
      "fit 0 0.41803740309719983\n",
      "fit 1 0.20519383347092116\n",
      "fit 2 0.0021592132158241256\n",
      "fit 3 0.0010876574081009195\n",
      "fit 4 0.0010875083090365883\n",
      "fit 5 0.0010875073515568573\n",
      "time= 0.20894145965576172\n",
      "1000\n",
      "time= 0.007554292678833008\n",
      "0.048042219712400386\n",
      "fit 0 0.41018942042326584\n",
      "fit 1 0.19903561909443374\n",
      "fit 2 0.0010731323454715078\n",
      "fit 3 0.00025841056023444216\n",
      "fit 4 0.0002587550663861721\n",
      "fit 5 0.0002587552261731321\n",
      "time= 0.37014079093933105\n",
      "2000\n",
      "time= 0.009168863296508789\n",
      "0.0038539752864527694\n",
      "fit 0 0.39435157258195247\n",
      "fit 1 0.13806767078590002\n",
      "fit 2 0.000393921910504481\n",
      "fit 3 0.00026897665377300864\n",
      "fit 4 0.00026864932960397067\n",
      "fit 5 0.00026864933957920236\n",
      "time= 0.9640109539031982\n",
      "5000\n",
      "time= 0.03470778465270996\n",
      "0.00233422093027804\n",
      "fit 0 0.38012971037829735\n",
      "fit 1 0.11989751639439475\n",
      "fit 2 9.420423198627837e-05\n",
      "fit 3 0.00018470113333408838\n",
      "fit 4 0.00018472621011625224\n",
      "fit 5 0.00018472622199372773\n",
      "time= 2.037506580352783\n",
      "10000\n",
      "time= 0.11342287063598633\n",
      "0.004837305510441032\n",
      "fit 0 0.38689837190992\n",
      "fit 1 0.13153020332619753\n",
      "fit 2 0.00034747860536488433\n",
      "fit 3 0.000152308236681058\n",
      "fit 4 0.0001521914974436167\n",
      "fit 5 0.00015219144826572942\n",
      "time= 3.5865681171417236\n",
      "20000\n",
      "time= 0.08403635025024414\n",
      "0.0039026437854667306\n",
      "fit 0 0.38210838303409866\n",
      "fit 1 0.11574799421674539\n",
      "fit 2 0.0004548985458780614\n",
      "fit 3 2.1613387125154735e-05\n",
      "fit 4 2.1637312812112974e-05\n",
      "fit 5 2.1637310345626703e-05\n",
      "time= 7.082995414733887\n",
      "50000\n",
      "time= 0.2793619632720947\n",
      "0.0033232812758601737\n",
      "fit 0 0.38027279369231815\n",
      "fit 1 0.1118879718244029\n",
      "fit 2 0.00017395170744626042\n",
      "fit 3 5.875736848778042e-05\n",
      "fit 4 5.875168727525679e-05\n",
      "fit 5 5.8751685823007374e-05\n",
      "time= 17.44931125640869\n",
      "100000\n",
      "time= 0.6627182960510254\n",
      "0.0035244785787822033\n",
      "fit 0 0.37807410943656594\n",
      "fit 1 0.10911994264523922\n",
      "fit 2 0.00020804817012921278\n",
      "fit 3 2.5043487681016868e-05\n",
      "fit 4 2.502407975228748e-05\n",
      "fit 5 2.502407580735776e-05\n",
      "time= 33.40200638771057\n",
      "finish\n"
     ]
    }
   ],
   "source": [
    "r=10\n",
    "l_range=[-30,30]\n",
    "angle_range=[-pi,pi]\n",
    "\n",
    "for i in range(n_x) :\n",
    "    cpc=make_cylinder_point_cloud(x[i],r,l_range,angle_range,sigma=0.1,transform=tv)\n",
    "    print(len(cpc))\n",
    "\n",
    "    do_pca_fit()\n",
    "    \n",
    "print(\"finish\")"
   ]
  },
  {
   "cell_type": "code",
   "execution_count": 35,
   "id": "daa69f1d",
   "metadata": {},
   "outputs": [
    {
     "data": {
      "image/png": "[encoded data removed]",
      "text/plain": [
       "<Figure size 432x288 with 1 Axes>"
      ]
     },
     "metadata": {
      "needs_background": "light"
     },
     "output_type": "display_data"
    },
    {
     "data": {
      "image/png": "[encoded data removed]",
      "text/plain": [
       "<Figure size 432x288 with 1 Axes>"
      ]
     },
     "metadata": {
      "needs_background": "light"
     },
     "output_type": "display_data"
    },
    {
     "data": {
      "image/png": "[encoded data removed]",
      "text/plain": [
       "<Figure size 432x288 with 1 Axes>"
      ]
     },
     "metadata": {
      "needs_background": "light"
     },
     "output_type": "display_data"
    }
   ],
   "source": [
    "plot_data(pca_acc,fit_acc,y=\"sin th\")\n",
    "plot_data(pca_center,fit_center,y=\"center\")\n",
    "plot_data(pca_tm,fit_tm,y=\"time\",log=True)"
   ]
  },
  {
   "cell_type": "markdown",
   "id": "d583a2ae",
   "metadata": {},
   "source": [
    "### 直径の10倍の長さの円柱．分散0.1の誤差を付加. 上部に密度の偏りを入れる"
   ]
  },
  {
   "cell_type": "code",
   "execution_count": 36,
   "id": "d44aa149",
   "metadata": {},
   "outputs": [
    {
     "name": "stdout",
     "output_type": "stream",
     "text": [
      "110\n",
      "time= 0.002652406692504883\n",
      "0.015636062411015277\n",
      "fit 0 0.05468405841286654\n",
      "fit 1 0.0021259326599056133\n",
      "fit 2 0.0003265072440889298\n",
      "fit 3 0.00032274281934646\n",
      "fit 4 0.0003227496079552888\n",
      "fit 5 0.0003227496256401879\n",
      "time= 0.05822277069091797\n",
      "220\n",
      "time= 0.0025658607482910156\n",
      "0.02175364738539068\n",
      "fit 0 0.055475029462696786\n",
      "fit 1 0.0019054708617332824\n",
      "fit 2 7.342837782854515e-05\n",
      "fit 3 7.292183873282038e-05\n",
      "fit 4 7.292244036505221e-05\n",
      "fit 5 7.292243988863647e-05\n",
      "time= 0.10144519805908203\n",
      "550\n",
      "time= 0.0065267086029052734\n",
      "0.01855576897494685\n",
      "fit 0 0.027053857943640194\n",
      "fit 1 0.00204681272751675\n",
      "fit 2 0.00013202575457975192\n",
      "fit 3 0.00013546301152625283\n",
      "fit 4 0.00013546403045710994\n",
      "fit 5 0.00013546403082773285\n",
      "time= 0.21088409423828125\n",
      "1100\n",
      "time= 0.005664348602294922\n",
      "0.016109019433223664\n",
      "fit 0 0.027362302409600327\n",
      "fit 1 0.0011996093734511955\n",
      "fit 2 0.000171848175261297\n",
      "fit 3 0.00017263837590090382\n",
      "fit 4 0.00017263893356115186\n",
      "fit 5 0.00017263893313963733\n",
      "time= 0.40793943405151367\n",
      "2200\n",
      "time= 0.01103353500366211\n",
      "0.015538616449106268\n",
      "fit 0 0.03168681099923496\n",
      "fit 1 0.0017174621518298754\n",
      "fit 2 4.2588255217572044e-05\n",
      "fit 3 4.5796372097404904e-05\n",
      "fit 4 4.579458446655006e-05\n",
      "fit 5 4.579458585597218e-05\n",
      "time= 1.0493686199188232\n",
      "5500\n",
      "time= 0.030228376388549805\n",
      "0.015701039558086202\n",
      "fit 0 0.02424513486277235\n",
      "fit 1 0.0011670946108520049\n",
      "fit 2 2.5034265497405596e-05\n",
      "fit 3 2.4416973410223992e-05\n",
      "fit 4 2.4417011502632783e-05\n",
      "fit 5 2.44170114246363e-05\n",
      "time= 2.2438955307006836\n",
      "11000\n",
      "time= 0.060276031494140625\n",
      "0.015592389883800259\n",
      "fit 0 0.03589121200844846\n",
      "fit 1 0.002191327725856873\n",
      "fit 2 3.714052780853525e-05\n",
      "fit 3 3.595427206000013e-05\n",
      "fit 4 3.595401148452821e-05\n",
      "fit 5 3.5954011432277476e-05\n",
      "time= 3.86346173286438\n",
      "22000\n",
      "time= 0.10900354385375977\n",
      "0.015616813137409064\n",
      "fit 0 0.025183160708747918\n",
      "fit 1 0.0015143632146937137\n",
      "fit 2 1.739605715048189e-05\n",
      "fit 3 1.795264154395738e-05\n",
      "fit 4 1.7952469681355546e-05\n",
      "fit 5 1.7952469644547085e-05\n",
      "time= 7.821526765823364\n",
      "55000\n",
      "time= 0.32190918922424316\n",
      "0.016756279572156148\n",
      "fit 0 0.030898012053599124\n",
      "fit 1 0.0017637222707519028\n",
      "fit 2 2.4647879818615193e-05\n",
      "fit 3 2.486856205368848e-05\n",
      "fit 4 2.4868688386266318e-05\n",
      "fit 5 2.4868688420365767e-05\n",
      "time= 18.615026235580444\n",
      "110000\n",
      "time= 0.8107624053955078\n",
      "0.01647984073692929\n",
      "fit 0 0.028520885248200564\n",
      "fit 1 0.0015625430596335598\n",
      "fit 2 1.1248028287308342e-05\n",
      "fit 3 1.2504644077897003e-05\n",
      "fit 4 1.2504747260537986e-05\n",
      "fit 5 1.2504747270072346e-05\n",
      "time= 38.081907510757446\n",
      "finish\n"
     ]
    }
   ],
   "source": [
    "r=10\n",
    "l_range=[-100,100]\n",
    "angle_range=[-pi,pi]\n",
    "\n",
    "for i in range(n_x) :\n",
    "    cpc=make_cylinder_point_cloud(x[i],r,l_range,angle_range,sigma=0.1,transform=tv)\n",
    "    cpc1=make_cylinder_point_cloud(int(x[i]/10),r,[l_range[1]/2,l_range[1]],[0,pi/2],sigma=0.1,transform=tv)\n",
    "    cpc=cpc+cpc1\n",
    "    print(len(cpc))\n",
    "    \n",
    "    do_pca_fit()\n",
    "\n",
    "print(\"finish\")"
   ]
  },
  {
   "cell_type": "code",
   "execution_count": 37,
   "id": "4123884e",
   "metadata": {},
   "outputs": [
    {
     "data": {
      "image/png": "[encoded data removed]",
      "text/plain": [
       "<Figure size 432x288 with 1 Axes>"
      ]
     },
     "metadata": {
      "needs_background": "light"
     },
     "output_type": "display_data"
    },
    {
     "data": {
      "image/png": "[encoded data removed]",
      "text/plain": [
       "<Figure size 432x288 with 1 Axes>"
      ]
     },
     "metadata": {
      "needs_background": "light"
     },
     "output_type": "display_data"
    },
    {
     "data": {
      "image/png": "[encoded data removed]",
      "text/plain": [
       "<Figure size 432x288 with 1 Axes>"
      ]
     },
     "metadata": {
      "needs_background": "light"
     },
     "output_type": "display_data"
    }
   ],
   "source": [
    "plot_data(pca_acc,fit_acc,y=\"sin th\")\n",
    "plot_data(pca_center,fit_center,y=\"center\")\n",
    "plot_data(pca_tm,fit_tm,y=\"time\",log=True)"
   ]
  },
  {
   "cell_type": "markdown",
   "id": "4dbd2f68",
   "metadata": {},
   "source": [
    "### 直径の1倍の長さの円柱．分散0.1の誤差を付加. 上部に密度の偏りを入れる"
   ]
  },
  {
   "cell_type": "code",
   "execution_count": 38,
   "id": "4c85f233",
   "metadata": {},
   "outputs": [
    {
     "name": "stdout",
     "output_type": "stream",
     "text": [
      "110\n",
      "time= 0.0010590553283691406\n",
      "0.9569320660906157\n",
      "fit 0 0.5503623130122703\n",
      "fit 1 0.14814152623121704\n",
      "fit 2 0.0023255367589726547\n",
      "fit 3 0.003261175610337885\n",
      "fit 4 0.00325895123643025\n",
      "fit 5 0.0032589591234981727\n",
      "time= 0.048027753829956055\n",
      "220\n",
      "time= 0.001665353775024414\n",
      "0.9896278339245334\n",
      "fit 0 0.38093829338183294\n",
      "fit 1 0.06788517952223729\n",
      "fit 2 0.002242197410845431\n",
      "fit 3 0.001832708764018593\n",
      "fit 4 0.0018319729077520728\n",
      "fit 5 0.0018319720216748547\n",
      "time= 0.09569144248962402\n",
      "550\n",
      "time= 0.0029807090759277344\n",
      "0.9371407566449815\n",
      "fit 0 0.3467008450775932\n",
      "fit 1 0.004684851382349711\n",
      "fit 2 0.0025809950305668173\n",
      "fit 3 0.00256469211012151\n",
      "fit 4 0.002564726822006913\n",
      "fit 5 0.0025647267178485955\n",
      "time= 0.21953678131103516\n",
      "1100\n",
      "time= 0.00806117057800293\n",
      "0.9433626460508893\n",
      "fit 0 0.3982744242855714\n",
      "fit 1 0.020586936954644912\n",
      "fit 2 0.0004916430291111993\n",
      "fit 3 0.0005414853727423022\n",
      "fit 4 0.0005415155474518763\n",
      "fit 5 0.0005415155598507555\n",
      "time= 0.3862032890319824\n",
      "2200\n",
      "time= 0.010976552963256836\n",
      "0.9585124414449816\n",
      "fit 0 0.38154714230751\n",
      "fit 1 0.023479169171103053\n",
      "fit 2 0.0008218832670018909\n",
      "fit 3 0.00087018682068865\n",
      "fit 4 0.000870223055152841\n",
      "fit 5 0.0008702231101498704\n",
      "time= 1.0315792560577393\n",
      "5500\n",
      "time= 0.03229022026062012\n",
      "0.9543964637976063\n",
      "fit 0 0.3895882144567353\n",
      "fit 1 0.021612564721960298\n",
      "fit 2 0.00037475264462204347\n",
      "fit 3 0.0003150735101333955\n",
      "fit 4 0.000315020751917005\n",
      "fit 5 0.00031502069361688084\n",
      "time= 2.1874265670776367\n",
      "11000\n",
      "time= 0.06235766410827637\n",
      "0.9552406227201237\n",
      "fit 0 0.395511642884014\n",
      "fit 1 0.024608853125585084\n",
      "fit 2 0.00017952448212467246\n",
      "fit 3 0.0001351123369235536\n",
      "fit 4 0.00013508701140946733\n",
      "fit 5 0.00013508699317477888\n",
      "time= 3.949685573577881\n",
      "22000\n",
      "time= 0.0951848030090332\n",
      "0.9554553441971906\n",
      "fit 0 0.3967772962872707\n",
      "fit 1 0.024357871791104522\n",
      "fit 2 0.00010477679811532075\n",
      "fit 3 8.747488768904533e-05\n",
      "fit 4 8.747360837500495e-05\n",
      "fit 5 8.747360711192796e-05\n",
      "time= 7.580703496932983\n",
      "55000\n",
      "time= 0.31845903396606445\n",
      "0.9594011000985919\n",
      "fit 0 0.3931667895368488\n",
      "fit 1 0.023769260898743667\n",
      "fit 2 7.218152927215073e-05\n",
      "fit 3 3.4341327456939516e-05\n",
      "fit 4 3.432651828607456e-05\n",
      "fit 5 3.432650944155719e-05\n",
      "time= 18.671448230743408\n",
      "110000\n",
      "time= 0.7951221466064453\n",
      "0.9565794618076701\n",
      "fit 0 0.3912400002163232\n",
      "fit 1 0.023211944198946014\n",
      "fit 2 0.00017851891560789299\n",
      "fit 3 0.00013432701241888136\n",
      "fit 4 0.00013431031535684915\n",
      "fit 5 0.00013431030958573973\n",
      "time= 36.49756932258606\n",
      "finish\n"
     ]
    }
   ],
   "source": [
    "r=10\n",
    "l_range=[-10,10]\n",
    "angle_range=[-pi,pi]\n",
    "\n",
    "for i in range(n_x) :\n",
    "    cpc=make_cylinder_point_cloud(x[i],r,l_range,angle_range,sigma=0.1,transform=tv)\n",
    "    cpc1=make_cylinder_point_cloud(int(x[i]/10),r,[l_range[1]/2,l_range[1]],[0,pi/2],sigma=0.1,transform=tv)\n",
    "    cpc=cpc+cpc1\n",
    "    print(len(cpc))\n",
    "    \n",
    "    do_pca_fit()\n",
    "\n",
    "print(\"finish\")"
   ]
  },
  {
   "cell_type": "code",
   "execution_count": 39,
   "id": "f15f371a",
   "metadata": {},
   "outputs": [
    {
     "data": {
      "image/png": "[encoded data removed]",
      "text/plain": [
       "<Figure size 432x288 with 1 Axes>"
      ]
     },
     "metadata": {
      "needs_background": "light"
     },
     "output_type": "display_data"
    },
    {
     "data": {
      "image/png": "[encoded data removed]",
      "text/plain": [
       "<Figure size 432x288 with 1 Axes>"
      ]
     },
     "metadata": {
      "needs_background": "light"
     },
     "output_type": "display_data"
    },
    {
     "data": {
      "image/png": "[encoded data removed]",
      "text/plain": [
       "<Figure size 432x288 with 1 Axes>"
      ]
     },
     "metadata": {
      "needs_background": "light"
     },
     "output_type": "display_data"
    }
   ],
   "source": [
    "plot_data(pca_acc,fit_acc,y=\"sin th\")\n",
    "plot_data(pca_center,fit_center,y=\"center\")\n",
    "plot_data(pca_tm,fit_tm,y=\"time\",log=True)"
   ]
  },
  {
   "cell_type": "markdown",
   "id": "165229a6",
   "metadata": {},
   "source": [
    "### 直径の10倍の長さの円柱，分散0.1の誤差を付加. 寸法誤差あり．"
   ]
  },
  {
   "cell_type": "code",
   "execution_count": 40,
   "id": "28d69c53",
   "metadata": {},
   "outputs": [
    {
     "name": "stdout",
     "output_type": "stream",
     "text": [
      "100\n",
      "time= 0.0010008811950683594\n",
      "0.007733625701393463\n",
      "fit 0 0.12259178780952934\n",
      "fit 1 0.01147061976881348\n",
      "fit 2 0.002848571778925374\n",
      "fit 3 0.0012694025683641376\n",
      "fit 4 0.0014559634893641666\n",
      "fit 5 0.0014329243671867735\n",
      "time= 0.0461575984954834\n",
      "200\n",
      "time= 0.001474142074584961\n",
      "0.020998657597690856\n",
      "fit 0 0.1016893270995122\n",
      "fit 1 0.004840235222159196\n",
      "fit 2 0.003682086320758199\n",
      "fit 3 0.003811854349608048\n",
      "fit 4 0.003797762496328057\n",
      "fit 5 0.00379927877472264\n",
      "time= 0.08003973960876465\n",
      "500\n",
      "time= 0.0026721954345703125\n",
      "0.012626168832128248\n",
      "fit 0 0.039428789561947696\n",
      "fit 1 0.0032694546510328862\n",
      "fit 2 0.002357411520523973\n",
      "fit 3 0.0020833562583793207\n",
      "fit 4 0.002108972638755824\n",
      "fit 5 0.0021063586221161503\n",
      "time= 0.19849491119384766\n",
      "1000\n",
      "time= 0.004193544387817383\n",
      "0.0038038503189395476\n",
      "fit 0 0.028078083197331336\n",
      "fit 1 0.0027678603369788815\n",
      "fit 2 0.0005098650340405763\n",
      "fit 3 0.0005737305517788287\n",
      "fit 4 0.000563789784072521\n",
      "fit 5 0.0005646566795976412\n",
      "time= 0.3891012668609619\n",
      "2000\n",
      "time= 0.011465311050415039\n",
      "0.003356163744904599\n",
      "fit 0 0.05909773452783633\n",
      "fit 1 0.0035486077489881107\n",
      "fit 2 0.0009263880076854827\n",
      "fit 3 0.0005251688584542087\n",
      "fit 4 0.0005614423781581928\n",
      "fit 5 0.000558146158696021\n",
      "time= 0.9848668575286865\n",
      "5000\n",
      "time= 0.02065753936767578\n",
      "0.0017786936277440807\n",
      "fit 0 0.028501459246145125\n",
      "fit 1 0.002366619528903089\n",
      "fit 2 0.00036502556622214116\n",
      "fit 3 0.00032844285934238254\n",
      "fit 4 0.0003263966582590961\n",
      "fit 5 0.0003264477880461821\n",
      "time= 2.031876802444458\n",
      "10000\n",
      "time= 0.041368961334228516\n",
      "0.00020141639120990735\n",
      "fit 0 0.02663796102667565\n",
      "fit 1 0.002114616307846541\n",
      "fit 2 0.00019470981136642651\n",
      "fit 3 3.74522720978446e-05\n",
      "fit 4 3.731860978852945e-05\n",
      "fit 5 3.695666567134352e-05\n",
      "time= 3.7515506744384766\n",
      "20000\n",
      "time= 0.12392973899841309\n",
      "0.0022642123416650676\n",
      "fit 0 0.026971754616772158\n",
      "fit 1 0.002104924236008191\n",
      "fit 2 0.00047860606979644604\n",
      "fit 3 0.00035645155968701216\n",
      "fit 4 0.0003637378978444722\n",
      "fit 5 0.00036305854950266454\n",
      "time= 6.8372275829315186\n",
      "50000\n",
      "time= 0.25604939460754395\n",
      "0.0008452607508748927\n",
      "fit 0 0.026631992468217226\n",
      "fit 1 0.0022421817647561367\n",
      "fit 2 0.00011519780858835686\n",
      "fit 3 0.0001484752503052357\n",
      "fit 4 0.00013371656043392296\n",
      "fit 5 0.00013499523357002032\n",
      "time= 17.546934366226196\n",
      "100000\n",
      "time= 0.6161842346191406\n",
      "0.0007717000300232385\n",
      "fit 0 0.02537648000991867\n",
      "fit 1 0.0021399098101025113\n",
      "fit 2 5.231858420728613e-05\n",
      "fit 3 0.0001403053108426609\n",
      "fit 4 0.00012452490864924131\n",
      "fit 5 0.00012586695438351824\n",
      "time= 33.756627321243286\n",
      "finish\n"
     ]
    }
   ],
   "source": [
    "r=10\n",
    "r_err=1.1\n",
    "l_range=[-100,100]\n",
    "angle_range=[-pi,pi]\n",
    "\n",
    "for i in range(n_x) :\n",
    "    cpc=make_cylinder_point_cloud(x[i],r*r_err,l_range,angle_range,sigma=0.1,transform=tv)\n",
    "    print(len(cpc))\n",
    "    tmp1=calc_pca(cpc)\n",
    "    \n",
    "    do_pca_fit()\n",
    "\n",
    "print(\"finish\")"
   ]
  },
  {
   "cell_type": "code",
   "execution_count": 41,
   "id": "166d14b7",
   "metadata": {},
   "outputs": [
    {
     "data": {
      "image/png": "[encoded data removed]",
      "text/plain": [
       "<Figure size 432x288 with 1 Axes>"
      ]
     },
     "metadata": {
      "needs_background": "light"
     },
     "output_type": "display_data"
    },
    {
     "data": {
      "image/png": "[encoded data removed]",
      "text/plain": [
       "<Figure size 432x288 with 1 Axes>"
      ]
     },
     "metadata": {
      "needs_background": "light"
     },
     "output_type": "display_data"
    },
    {
     "data": {
      "image/png": "[encoded data removed]",
      "text/plain": [
       "<Figure size 432x288 with 1 Axes>"
      ]
     },
     "metadata": {
      "needs_background": "light"
     },
     "output_type": "display_data"
    }
   ],
   "source": [
    "plot_data(pca_acc,fit_acc,y=\"sin th\")\n",
    "plot_data(pca_center,fit_center,y=\"center\")\n",
    "plot_data(pca_tm,fit_tm,y=\"time\",log=True)"
   ]
  },
  {
   "cell_type": "code",
   "execution_count": null,
   "id": "d0310ff7",
   "metadata": {},
   "outputs": [],
   "source": []
  }
 ],
 "metadata": {
  "kernelspec": {
   "display_name": "Python 3",
   "language": "python",
   "name": "python3"
  },
  "language_info": {
   "codemirror_mode": {
    "name": "ipython",
    "version": 3
   },
   "file_extension": ".py",
   "mimetype": "text/x-python",
   "name": "python",
   "nbconvert_exporter": "python",
   "pygments_lexer": "ipython3",
   "version": "3.8.10"
  }
 },
 "nbformat": 4,
 "nbformat_minor": 5
}
